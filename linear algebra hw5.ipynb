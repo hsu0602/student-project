{
 "cells": [
  {
   "cell_type": "code",
   "execution_count": 4,
   "metadata": {},
   "outputs": [],
   "source": [
    "%matplotlib inline\n",
    "\n",
    "import numpy as np\n",
    "import sympy as sp\n",
    "import matplotlib.pyplot as plt\n",
    "import math\n",
    "\n",
    "##Given a 4*4 matrix , find columns that is linearly independent."
   ]
  },
  {
   "cell_type": "code",
   "execution_count": 20,
   "metadata": {},
   "outputs": [],
   "source": [
    "def find_li(X):\n",
    "    LI_columns = X.rref()[1]\n",
    "    for i in range(len(LI_columns)):\n",
    "        print(\"columns = \",LI_columns[i]+1,\" is linearly independent.\")"
   ]
  },
  {
   "cell_type": "code",
   "execution_count": 29,
   "metadata": {},
   "outputs": [
    {
     "name": "stdout",
     "output_type": "stream",
     "text": [
      "Please input a 4*4 matrix one by one(a11,a12,a13,a14,a21,......,a44)\n",
      "1\n",
      "2\n",
      "2323\n",
      "7678\n",
      "2\n",
      "4\n",
      "5645\n",
      "232\n",
      "3\n",
      "6\n",
      "345346\n",
      "7878\n",
      "4\n",
      "8\n",
      "5645\n",
      "39363\n",
      "columns =  1  is linearly independent.\n",
      "columns =  3  is linearly independent.\n",
      "columns =  4  is linearly independent.\n"
     ]
    }
   ],
   "source": [
    "print(\"Please input a 4*4 matrix one by one(a11,a12,a13,a14,a21,......,a44)\") \n",
    "A = sp.zeros(4,4)\n",
    "for i in range(0,4):\n",
    "    for j in range(0,4):\n",
    "        A[i , j] = input()\n",
    "find_li(A)"
   ]
  },
  {
   "cell_type": "code",
   "execution_count": 30,
   "metadata": {},
   "outputs": [
    {
     "data": {
      "text/latex": [
       "$\\displaystyle \\left[\\begin{matrix}1 & 2 & 0 & 0\\\\0 & 0 & 1 & 0\\\\0 & 0 & 0 & 1\\\\0 & 0 & 0 & 0\\end{matrix}\\right]$"
      ],
      "text/plain": [
       "Matrix([\n",
       "[1, 2, 0, 0],\n",
       "[0, 0, 1, 0],\n",
       "[0, 0, 0, 1],\n",
       "[0, 0, 0, 0]])"
      ]
     },
     "execution_count": 30,
     "metadata": {},
     "output_type": "execute_result"
    }
   ],
   "source": [
    "##check\n",
    "A.rref()[0]"
   ]
  },
  {
   "cell_type": "code",
   "execution_count": null,
   "metadata": {},
   "outputs": [],
   "source": [
    "##pivot columns are 1 3 4 exactly"
   ]
  },
  {
   "cell_type": "code",
   "execution_count": null,
   "metadata": {},
   "outputs": [],
   "source": []
  }
 ],
 "metadata": {
  "kernelspec": {
   "display_name": "Python 3",
   "language": "python",
   "name": "python3"
  },
  "language_info": {
   "codemirror_mode": {
    "name": "ipython",
    "version": 3
   },
   "file_extension": ".py",
   "mimetype": "text/x-python",
   "name": "python",
   "nbconvert_exporter": "python",
   "pygments_lexer": "ipython3",
   "version": "3.7.4"
  }
 },
 "nbformat": 4,
 "nbformat_minor": 2
}
