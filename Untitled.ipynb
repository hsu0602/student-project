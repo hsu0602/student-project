{
 "cells": [
  {
   "cell_type": "code",
   "execution_count": 1,
   "metadata": {},
   "outputs": [],
   "source": [
    "import sympy as sp"
   ]
  },
  {
   "cell_type": "code",
   "execution_count": 56,
   "metadata": {},
   "outputs": [],
   "source": [
    "A1 = sp.Matrix([[0,1,2],\n",
    "                [-1,0,2],\n",
    "                [1,-1,1],\n",
    "                [2,1,1]])\n",
    "\n",
    "B1=sp.Matrix([[1,0,0],\n",
    "             [0,1,0],\n",
    "             [0,0,1]])\n",
    "\n",
    "B2=sp.Matrix([[1,0,1],\n",
    "              [0,1,0],\n",
    "              [0,0,1]])\n",
    "\n",
    "C1=sp.Matrix([[1,0,0,0],\n",
    "             [0,1,0,0],\n",
    "             [0,0,1,0],\n",
    "             [0,0,0,1]])\n",
    "\n",
    "C2=sp.Matrix([[0,0,0,1],\n",
    "              [1,0,0,1],\n",
    "              [1,3,2,0],\n",
    "              [-1,1,0,1]])"
   ]
  },
  {
   "cell_type": "code",
   "execution_count": 52,
   "metadata": {},
   "outputs": [
    {
     "data": {
      "text/latex": [
       "$\\displaystyle \\left[\\begin{matrix}-1 & -1 & -1\\\\1 & -1 & 0\\\\- \\frac{1}{2} & \\frac{3}{2} & \\frac{3}{2}\\\\0 & 1 & 2\\end{matrix}\\right]$"
      ],
      "text/plain": [
       "Matrix([\n",
       "[  -1,  -1,  -1],\n",
       "[   1,  -1,   0],\n",
       "[-1/2, 3/2, 3/2],\n",
       "[   0,   1,   2]])"
      ]
     },
     "execution_count": 52,
     "metadata": {},
     "output_type": "execute_result"
    }
   ],
   "source": [
    "A2=C2.inv()*A1*B2\n",
    "A2"
   ]
  },
  {
   "cell_type": "code",
   "execution_count": 54,
   "metadata": {},
   "outputs": [
    {
     "data": {
      "text/plain": [
       "True"
      ]
     },
     "execution_count": 54,
     "metadata": {},
     "output_type": "execute_result"
    }
   ],
   "source": [
    "V2=sp.Matrix([1,2,3])\n",
    "\n",
    "\n",
    "V=B2*V2\n",
    "\n",
    "\n",
    "C2*A2*V2==(A1*V)"
   ]
  }
 ],
 "metadata": {
  "kernelspec": {
   "display_name": "Python 3",
   "language": "python",
   "name": "python3"
  },
  "language_info": {
   "codemirror_mode": {
    "name": "ipython",
    "version": 3
   },
   "file_extension": ".py",
   "mimetype": "text/x-python",
   "name": "python",
   "nbconvert_exporter": "python",
   "pygments_lexer": "ipython3",
   "version": "3.7.4"
  }
 },
 "nbformat": 4,
 "nbformat_minor": 2
}
