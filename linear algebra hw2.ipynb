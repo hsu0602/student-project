{
 "cells": [
  {
   "cell_type": "code",
   "execution_count": 2,
   "metadata": {},
   "outputs": [],
   "source": [
    "%matplotlib inline\n",
    "\n",
    "import numpy as np\n",
    "import matplotlib.pyplot as plt\n",
    "import math\n",
    "MAX=100  \n",
    "\"\"\"The limit size of the square matrix is set to 100,and it is changeable\"\"\""
   ]
  },
  {
   "cell_type": "code",
   "execution_count": 117,
   "metadata": {},
   "outputs": [],
   "source": [
    "def determinant(m,L):\n",
    "    ans=0\n",
    "    lans=0\n",
    "    change=-1\n",
    "    temp=np.zeros((MAX,MAX), dtype=np.int64)\n",
    "    \n",
    "    if (m <= 2):\n",
    "        \n",
    "        ans = L[0][0]*L[1][1]-L[1][0]*L[0][1]\n",
    "        return ans\n",
    "    \n",
    "    else:\n",
    "        \n",
    "        for k in range(0,m):\n",
    "      \n",
    "            for i in range(0,m-1):\n",
    "          \n",
    "                for j in range(0,k):\n",
    "                    \n",
    "                    temp[i][j]=L[i+1][j]\n",
    "\n",
    "         \n",
    "            for i in range(0,m-1):\n",
    "                \n",
    "                for j in range(0,m-k-1):\n",
    "                \n",
    "                    temp[i][k+j]=L[i+1][k+j+1]\n",
    "             \n",
    "            if (k%2 ==0):\n",
    "          \n",
    "                lans=L[0][k]*determinant(m-1,temp)\n",
    "          \n",
    "            else:\n",
    "         \n",
    "                lans=change*L[0][k]*determinant(m-1,temp)\n",
    "         \n",
    "            ans=ans+lans\n",
    "      \n",
    "        return ans   "
   ]
  },
  {
   "cell_type": "code",
   "execution_count": 121,
   "metadata": {},
   "outputs": [],
   "source": [
    "A = np.array([[2,4,1,-3],\n",
    "              [7,2,2,-2],\n",
    "              [3,3,2,2],\n",
    "              [0,5,1,0]])\n",
    "n=np.size(A,1)"
   ]
  },
  {
   "cell_type": "code",
   "execution_count": 122,
   "metadata": {},
   "outputs": [
    {
     "data": {
      "text/plain": [
       "-35"
      ]
     },
     "execution_count": 122,
     "metadata": {},
     "output_type": "execute_result"
    }
   ],
   "source": [
    "determinant(n,A)"
   ]
  },
  {
   "cell_type": "code",
   "execution_count": null,
   "metadata": {},
   "outputs": [],
   "source": [
    "\n"
   ]
  },
  {
   "cell_type": "code",
   "execution_count": null,
   "metadata": {},
   "outputs": [],
   "source": []
  },
  {
   "cell_type": "code",
   "execution_count": null,
   "metadata": {},
   "outputs": [],
   "source": []
  },
  {
   "cell_type": "code",
   "execution_count": null,
   "metadata": {},
   "outputs": [],
   "source": []
  }
 ],
 "metadata": {
  "kernelspec": {
   "display_name": "Python 3",
   "language": "python",
   "name": "python3"
  },
  "language_info": {
   "codemirror_mode": {
    "name": "ipython",
    "version": 3
   },
   "file_extension": ".py",
   "mimetype": "text/x-python",
   "name": "python",
   "nbconvert_exporter": "python",
   "pygments_lexer": "ipython3",
   "version": "3.7.4"
  }
 },
 "nbformat": 4,
 "nbformat_minor": 2
}
