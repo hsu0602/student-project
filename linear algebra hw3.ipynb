{
 "cells": [
  {
   "cell_type": "code",
   "execution_count": 2,
   "metadata": {},
   "outputs": [],
   "source": [
    "%matplotlib inline\n",
    "\n",
    "import numpy as np\n",
    "import sympy as sp\n",
    "import matplotlib.pyplot as plt\n",
    "import math\n",
    "from random import seed\n",
    "from random import randint"
   ]
  },
  {
   "cell_type": "code",
   "execution_count": 4,
   "metadata": {},
   "outputs": [],
   "source": [
    "###Given a random matrix , find RREF , and then use minus one trick to find the vector of homogenuous solution."
   ]
  },
  {
   "cell_type": "code",
   "execution_count": 89,
   "metadata": {},
   "outputs": [],
   "source": [
    "def solution(M,n):\n",
    "    A = M.rref()[0]\n",
    "    print(\"RREF of the matrix =\",A,\"\\n\")\n",
    "    basic_variables = M.rref()[1]\n",
    "    for i in range(0,n):\n",
    "        check=1\n",
    "        for j in range(0,len(basic_variables)):\n",
    "            if(basic_variables[j] == i):\n",
    "                check=0\n",
    "        if(check==1):\n",
    "            B = sp.zeros(1,n)\n",
    "            B[0 , i] = -1\n",
    "            A = A.row_insert(i,B)\n",
    "    for i in range(0,n):\n",
    "        check=1\n",
    "        for j in range(0,len(basic_variables)):\n",
    "            if(basic_variables[j] == i):\n",
    "                check=0\n",
    "        if(check==1):\n",
    "            print(\"vector of homogenuous = \",A.col(i),\"\\n\")\n",
    "            "
   ]
  },
  {
   "cell_type": "code",
   "execution_count": null,
   "metadata": {},
   "outputs": [],
   "source": []
  },
  {
   "cell_type": "code",
   "execution_count": 91,
   "metadata": {},
   "outputs": [
    {
     "name": "stdout",
     "output_type": "stream",
     "text": [
      "RREF of the matrix = Matrix([[1, 3, 0, 0, 3], [0, 0, 1, 0, 9], [0, 0, 0, 1, -4]]) \n",
      "\n",
      "vector of homogenuous =  Matrix([[3], [-1], [0], [0], [0]]) \n",
      "\n",
      "vector of homogenuous =  Matrix([[3], [0], [9], [-4], [-1]]) \n",
      "\n"
     ]
    }
   ],
   "source": [
    "X = sp.Matrix([[3,9,0,1,5],\n",
    "              [1,3,1,1,8],\n",
    "              [2,6,0,1,2]])\n",
    "solution(X,X.shape[1])"
   ]
  },
  {
   "cell_type": "code",
   "execution_count": null,
   "metadata": {},
   "outputs": [],
   "source": []
  },
  {
   "cell_type": "code",
   "execution_count": 92,
   "metadata": {},
   "outputs": [
    {
     "name": "stdout",
     "output_type": "stream",
     "text": [
      "RREF of the matrix = Matrix([[1, 0, 0, 0, -21, -596], [0, 1, 0, 0, 8, 199], [0, 0, 1, 0, 9, 95], [0, 0, 0, 1, -4, 4]]) \n",
      "\n",
      "vector of homogenuous =  Matrix([[-21], [8], [9], [-4], [-1], [0]]) \n",
      "\n",
      "vector of homogenuous =  Matrix([[-596], [199], [95], [4], [0], [-1]]) \n",
      "\n"
     ]
    }
   ],
   "source": [
    "X = sp.Matrix([[3,9,0,1,5,7],\n",
    "              [1,3,1,1,8,100],\n",
    "              [2,6,0,1,2,6],\n",
    "              [2,3,6,7,8,3]])\n",
    "solution(X,X.shape[1])"
   ]
  },
  {
   "cell_type": "code",
   "execution_count": null,
   "metadata": {},
   "outputs": [],
   "source": []
  }
 ],
 "metadata": {
  "kernelspec": {
   "display_name": "Python 3",
   "language": "python",
   "name": "python3"
  },
  "language_info": {
   "codemirror_mode": {
    "name": "ipython",
    "version": 3
   },
   "file_extension": ".py",
   "mimetype": "text/x-python",
   "name": "python",
   "nbconvert_exporter": "python",
   "pygments_lexer": "ipython3",
   "version": "3.7.4"
  }
 },
 "nbformat": 4,
 "nbformat_minor": 2
}
